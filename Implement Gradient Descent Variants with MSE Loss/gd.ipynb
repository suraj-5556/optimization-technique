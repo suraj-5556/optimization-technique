{
 "cells": [
  {
   "cell_type": "code",
   "execution_count": 6,
   "id": "b8884850",
   "metadata": {},
   "outputs": [],
   "source": [
    "import numpy as np\n",
    "\n",
    "def gradient_descent(X, y, learning_rate, n_iterations, batch_size=1, method='batch'):\n",
    "\n",
    "    weights=np.zeros(len(X[0]))\n",
    "\n",
    "    def feed_forward(array, weight):\n",
    "        return np.dot(array, weight)\n",
    "\n",
    "    def loss(array, y,w):\n",
    "        count = 0\n",
    "        for i, j in zip(array, y):\n",
    "            count = count + (feed_forward(i, w) - j) ** 2\n",
    "        return count / (2 * len(y))\n",
    "    \n",
    "    def update_batch(weight, array, y):\n",
    "        w=np.zeros(len(array[0]))\n",
    "        for i in range(0,len(weight)):\n",
    "            for j in range(0,len(y)):\n",
    "                w[i] = w[i] + ((feed_forward(array[j], weight) - y[j]) * array[j][i])\n",
    "        for i in range (0,len(weight)):\n",
    "            weight[i]-= learning_rate*2*(w[i]/len(y))\n",
    "    \n",
    "    def update_s(weight,array,y):\n",
    "        \n",
    "        for i in range (0,len(y)):\n",
    "            w=np.zeros(len(weight))\n",
    "            for j in range (0,len(weight)):\n",
    "                w[j]= (feed_forward(array[i], weight)-y[i])*array[i][j]\n",
    "            for k in range (0,len(weight)):\n",
    "                weight[k]=weight[k] -learning_rate*2*(w[k])\n",
    "    \n",
    "    def update_mini(weight, array, y,size):\n",
    "        \n",
    "        w=np.zeros(len(weight))\n",
    "        count=0\n",
    "        \n",
    "        for i in range (0,len(y)):\n",
    "            for j in range (0,len(weight)):\n",
    "                w[j]= w[j]+(feed_forward(array[i], weight)-y[i])*array[i][j]\n",
    "            count=count+1\n",
    "            if count==size:\n",
    "                for k in range (0,len(weight)):\n",
    "                    weight[k]=weight[k] -learning_rate*2*(w[k]/size)\n",
    "                w=np.zeros(len(weight))\n",
    "                count=0\n",
    "          \n",
    "\n",
    "\n",
    "    if method == 'batch':\n",
    "        for i in range (0,n_iterations):\n",
    "            print(i,end=\" \")\n",
    "            print(loss(X,y,weights))\n",
    "            update_batch(weights,X,y)\n",
    "    elif method == 'stochastic':\n",
    "        for i in range (0,n_iterations):\n",
    "            print(i,end=\" \")\n",
    "            print(loss(X,y,weights))\n",
    "            update_s(weights,X,y)\n",
    "    elif method == 'mini_batch':\n",
    "        for i in range (0,n_iterations):\n",
    "            print(i,end=\" \")\n",
    "            print(loss(X,y,weights))\n",
    "            update_mini(weights,X,y,batch_size)\n",
    "    return weights\n",
    "    "
   ]
  },
  {
   "cell_type": "code",
   "execution_count": 2,
   "id": "2219db4d",
   "metadata": {},
   "outputs": [],
   "source": [
    "# Features (X1, X2, X3)\n",
    "X = np.array([\n",
    "    [1, 2, 1],\n",
    "    [2, 3, 2],\n",
    "    [3, 4, 3],\n",
    "    [4, 5, 4],\n",
    "    [5, 6, 5]\n",
    "], dtype=float)\n",
    "\n",
    "# y = 2*X1 + 3*X2 + 4*X3 + 5\n",
    "y = np.array([21, 32, 43, 54, 65], dtype=float)"
   ]
  },
  {
   "cell_type": "code",
   "execution_count": 10,
   "id": "304ac955",
   "metadata": {},
   "outputs": [
    {
     "name": "stdout",
     "output_type": "stream",
     "text": [
      "0 1045.5\n",
      "1 44.97119999999999\n",
      "2 4.1343436800000015\n",
      "3 2.458742833152\n",
      "4 2.3811942583369756\n",
      "5 2.36889260392282\n",
      "6 2.359290021231068\n",
      "7 2.349834034223879\n",
      "8 2.3404203404380324\n",
      "9 2.3310445382401666\n",
      "10 2.321706303135931\n",
      "11 2.3124054775832383\n",
      "12 2.303141911430718\n",
      "13 2.2939154554043624\n",
      "14 2.284725960839413\n",
      "15 2.2755732796670967\n",
      "16 2.2664572644118746\n",
      "17 2.257377768188968\n",
      "18 2.248334644702024\n",
      "19 2.239327748240769\n"
     ]
    },
    {
     "data": {
      "text/plain": [
       "array([3.66320212, 5.05190488, 3.66320212])"
      ]
     },
     "execution_count": 10,
     "metadata": {},
     "output_type": "execute_result"
    }
   ],
   "source": [
    "gradient_descent(X,y,0.01,20,method='batch')"
   ]
  },
  {
   "cell_type": "code",
   "execution_count": 11,
   "id": "a7feed2c",
   "metadata": {},
   "outputs": [
    {
     "name": "stdout",
     "output_type": "stream",
     "text": [
      "0 1045.5\n",
      "1 5.434004720901754\n",
      "2 3.5798993978268308\n",
      "3 3.478211064242965\n",
      "4 3.404549528189384\n",
      "5 3.3329203358006594\n",
      "6 3.2628070178469266\n",
      "7 3.1941688116325415\n",
      "8 3.126974519649221\n",
      "9 3.0611937638085727\n",
      "10 2.996796808128488\n",
      "11 2.9337545422266134\n",
      "12 2.8720384681036513\n",
      "13 2.811620687259957\n",
      "14 2.752473888084009\n",
      "15 2.694571333506419\n",
      "16 2.6378868489135066\n",
      "17 2.582394810315095\n",
      "18 2.5280701327613975\n",
      "19 2.4748882590034373\n"
     ]
    },
    {
     "data": {
      "text/plain": [
       "array([2.88799247, 5.92701541, 2.88799247])"
      ]
     },
     "execution_count": 11,
     "metadata": {},
     "output_type": "execute_result"
    }
   ],
   "source": [
    "gradient_descent(X,y,0.01,20,method='stochastic')"
   ]
  },
  {
   "cell_type": "code",
   "execution_count": 12,
   "id": "ab712d07",
   "metadata": {},
   "outputs": [
    {
     "name": "stdout",
     "output_type": "stream",
     "text": [
      "0 1045.5\n",
      "1 6.930681720000008\n",
      "2 2.2401452055361117\n",
      "3 2.2257112548243447\n",
      "4 2.209539199517599\n",
      "5 2.19179229373451\n",
      "6 2.1740628459613482\n",
      "7 2.156468085665535\n",
      "8 2.139015113913986\n",
      "9 2.121703352400383\n",
      "10 2.1045316978099224\n",
      "11 2.0874990189578124\n",
      "12 2.070604191257787\n",
      "13 2.0538460990476315\n",
      "14 2.0372236356822233\n",
      "15 2.020735703472019\n",
      "16 2.004381213611404\n",
      "17 1.9881590861067964\n",
      "18 1.9720682497053978\n",
      "19 1.956107641824398\n"
     ]
    },
    {
     "data": {
      "text/plain": [
       "array([3.45469316, 5.40885679, 3.45469316])"
      ]
     },
     "execution_count": 12,
     "metadata": {},
     "output_type": "execute_result"
    }
   ],
   "source": [
    "gradient_descent(X,y,0.01,20, batch_size=2,method='mini_batch')"
   ]
  },
  {
   "cell_type": "code",
   "execution_count": null,
   "id": "0d2b2c10",
   "metadata": {},
   "outputs": [],
   "source": []
  }
 ],
 "metadata": {
  "kernelspec": {
   "display_name": "base",
   "language": "python",
   "name": "python3"
  },
  "language_info": {
   "codemirror_mode": {
    "name": "ipython",
    "version": 3
   },
   "file_extension": ".py",
   "mimetype": "text/x-python",
   "name": "python",
   "nbconvert_exporter": "python",
   "pygments_lexer": "ipython3",
   "version": "3.13.5"
  }
 },
 "nbformat": 4,
 "nbformat_minor": 5
}
